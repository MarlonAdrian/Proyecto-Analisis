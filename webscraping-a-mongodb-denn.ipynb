{
 "cells": [
  {
   "cell_type": "code",
   "execution_count": 381,
   "id": "d290343c",
   "metadata": {},
   "outputs": [],
   "source": [
    "import requests\n",
    "from bs4 import BeautifulSoup\n",
    "from pymongo import MongoClient\n",
    "import pandas as pd\n",
    "import bson\n",
    "from bson.raw_bson import RawBSONDocument\n",
    "\n",
    "db_client = MongoClient(\"localhost\")# conexion con compasss\n",
    "my_db = db_client.webscrapingMongodb#Obtener base de datos previamente creada\n",
    "my_posts = my_db.pulsoQuito#Ubicar en coleccion previamente creada\n",
    "\n"
   ]
  },
  {
   "cell_type": "code",
   "execution_count": 382,
   "id": "e5bdb500",
   "metadata": {},
   "outputs": [],
   "source": [
    "\n",
    "url= 'https://www.elcomercio.com/search/page20/?s=asamble%C3%ADstas+quito'#pagina a usar\n",
    "web_pag= requests.get(url)#conexion con dicha url\n",
    "content= BeautifulSoup(web_pag.content, 'html.parser')#obtención del contenido de la pagina en el formato html"
   ]
  },
  {
   "cell_type": "code",
   "execution_count": 383,
   "id": "9afd2909",
   "metadata": {},
   "outputs": [
    {
     "name": "stdout",
     "output_type": "stream",
     "text": [
      "['\\nVuelos desde Latacunga a México se suspendieron\\n', '\\nComisión de Fiscalización suspendió sesión entre falta de acuerdos para interpelar al Defensor del Pueblo\\n', '\\nEn dos frentes se investiga a la segunda Vicepresidenta\\n', '\\nFiscalía y Policía ejecutan ocho allanamientos en el caso de la asambleísta Bella Jiménez\\n', '\\nGuillermo Lasso anuncia que se deportará o extraditará a 3 000 extranjeros privados de libertad\\n', '\\nTres temas conflictivos se presentan en juicio político a Freddy Carrión\\n', '\\nDenuncias de gestión de cargos van en aumento en la Asamblea Nacional\\n', '\\nFreddy Carrión pidió que comparezcan a su esposa y el vicepresidente del Cpccs en la Mesa de Fiscalización\\n', '\\nEl PSC llega a sus 70 años de vida política con el reto de la renovación\\n', '\\nEscalinatas integraron a los vecinos de Ponceano, en Quito\\n']\n"
     ]
    }
   ],
   "source": [
    "def find_2nd(string, substring):\n",
    "    return string.find(substring, string.find(substring) + 1)\n",
    "def find_1st(string, substring):\n",
    "    return string.find(substring, string.find(substring))\n",
    "\n",
    "#titulares\n",
    "\n",
    "soup= content.find_all('h3', class_='list-item__title')#Encuentra coincidencias de etiquetas 'a' y clase respectiva\n",
    "titulares= list()#lista donde se guardaran los datos\n",
    "count=0\n",
    "for i in soup:\n",
    "\n",
    "\n",
    "    if count<=100: #control de numero de registros (100)\n",
    "        titulares.append(i.text)#ingresar cada elemento(unicamente el texto) a la lista\n",
    "    else:\n",
    "        break\n",
    "    count +=1\n",
    "a={}\n",
    "for i in range(len(titulares)):#bucle para guardarlos en formato json\n",
    "    a={'noticia': titulares[i]}\n",
    "    my_posts.insert_one(a)\n",
    "    a={}\n",
    "\n",
    "print(titulares)"
   ]
  },
  {
   "cell_type": "code",
   "execution_count": null,
   "id": "3a882cc8",
   "metadata": {},
   "outputs": [],
   "source": []
  },
  {
   "cell_type": "code",
   "execution_count": null,
   "id": "2df2ee42",
   "metadata": {},
   "outputs": [],
   "source": []
  }
 ],
 "metadata": {
  "kernelspec": {
   "display_name": "Python 3",
   "language": "python",
   "name": "python3"
  },
  "language_info": {
   "codemirror_mode": {
    "name": "ipython",
    "version": 3
   },
   "file_extension": ".py",
   "mimetype": "text/x-python",
   "name": "python",
   "nbconvert_exporter": "python",
   "pygments_lexer": "ipython3",
   "version": "3.9.5"
  }
 },
 "nbformat": 4,
 "nbformat_minor": 5
}
